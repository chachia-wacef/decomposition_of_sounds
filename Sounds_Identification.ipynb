{
  "nbformat": 4,
  "nbformat_minor": 0,
  "metadata": {
    "colab": {
      "name": "disaggregation_of_machine_sounds.ipynb",
      "provenance": [],
      "collapsed_sections": [
        "qYgFzp57jGlm",
        "AmVK-p4mjKlZ",
        "FoyhV4RNnJNJ",
        "HKIOh0MTvdEM"
      ]
    },
    "kernelspec": {
      "name": "python3",
      "display_name": "Python 3"
    },
    "language_info": {
      "name": "python"
    },
    "accelerator": "GPU"
  },
  "cells": [
    {
      "cell_type": "markdown",
      "metadata": {
        "id": "qYgFzp57jGlm"
      },
      "source": [
        "# **Data Importation**"
      ]
    },
    {
      "cell_type": "code",
      "metadata": {
        "colab": {
          "base_uri": "https://localhost:8080/"
        },
        "id": "qWnDAG-ohPsF",
        "outputId": "2235bec3-c410-4cb1-9bad-93e81d822723"
      },
      "source": [
        "#Connect to Google Drive\n",
        "from google.colab import drive\n",
        "drive.mount('/content/gdrive')"
      ],
      "execution_count": 1,
      "outputs": [
        {
          "output_type": "stream",
          "name": "stdout",
          "text": [
            "Mounted at /content/gdrive\n"
          ]
        }
      ]
    },
    {
      "cell_type": "code",
      "metadata": {
        "colab": {
          "base_uri": "https://localhost:8080/"
        },
        "id": "E0iLqOKth2CS",
        "outputId": "a6fb89eb-40d3-41df-edaa-502a387df0da"
      },
      "source": [
        "!cp -r /content/gdrive/MyDrive/BD_P2M/* /content"
      ],
      "execution_count": 2,
      "outputs": [
        {
          "output_type": "stream",
          "name": "stdout",
          "text": [
            "^C\n"
          ]
        }
      ]
    },
    {
      "cell_type": "markdown",
      "metadata": {
        "id": "AmVK-p4mjKlZ"
      },
      "source": [
        "# **Library Importation**"
      ]
    },
    {
      "cell_type": "code",
      "metadata": {
        "id": "Ra_NUbjYjKWh"
      },
      "source": [
        "from python_speech_features import mfcc\n",
        "import scipy.io.wavfile as wav\n",
        "import librosa\n",
        "import scipy\n",
        "import numpy as np\n",
        "from tempfile import TemporaryFile\n",
        "import os\n",
        "import pickle\n",
        "import random \n",
        "import operator\n",
        "import math\n",
        "import numpy as np"
      ],
      "execution_count": null,
      "outputs": []
    },
    {
      "cell_type": "markdown",
      "metadata": {
        "id": "FoyhV4RNnJNJ"
      },
      "source": [
        "# **Dataset labels**"
      ]
    },
    {
      "cell_type": "code",
      "metadata": {
        "id": "RnC1z8cxiIMn"
      },
      "source": [
        "data = pd.read_csv('/content/UrbanSound8K.csv')"
      ],
      "execution_count": null,
      "outputs": []
    },
    {
      "cell_type": "code",
      "metadata": {
        "id": "jg7mRvdBltsG"
      },
      "source": [
        "data = data[['slice_file_name','class']]"
      ],
      "execution_count": null,
      "outputs": []
    },
    {
      "cell_type": "markdown",
      "metadata": {
        "id": "POHoRZ3rnQv_"
      },
      "source": [
        "# **Data preprocessing**"
      ]
    },
    {
      "cell_type": "code",
      "metadata": {
        "id": "BppfRL4KltpO"
      },
      "source": [
        "#Get the distance between feature vectors and find neighbors\n",
        "def getNeighbors(trainingSet, instance, k):\n",
        "    distances = []\n",
        "    for x in range (len(trainingSet)):\n",
        "        dist = distance(trainingSet[x], instance, k )+ distance(instance, trainingSet[x], k)\n",
        "        distances.append((trainingSet[x][2], dist))\n",
        "    distances.sort(key=operator.itemgetter(1))\n",
        "    #Get the first k neighbors\n",
        "    neighbors = []\n",
        "    for x in range(k):\n",
        "        neighbors.append(distances[x][0])\n",
        "    return neighbors"
      ],
      "execution_count": null,
      "outputs": []
    },
    {
      "cell_type": "code",
      "metadata": {
        "id": "Zv7IR-FMltmM"
      },
      "source": [
        "#Identify the nearest neighbors\n",
        "def nearestClass(neighbors):\n",
        "    classVote = {}\n",
        "    for x in range(len(neighbors)):\n",
        "        response = neighbors[x]\n",
        "        if response in classVote:\n",
        "            classVote[response]+=1 \n",
        "        else:\n",
        "            classVote[response]=1\n",
        "    sorter = sorted(classVote.items(), key = operator.itemgetter(1), reverse=True)\n",
        "    return sorter[0][0]"
      ],
      "execution_count": null,
      "outputs": []
    },
    {
      "cell_type": "code",
      "metadata": {
        "id": "DVndY2qZoiLa"
      },
      "source": [
        "#model evaluation\n",
        "def getAccuracy(testSet, predictions):\n",
        "    correct = 0 \n",
        "    for x in range (len(testSet)):\n",
        "        if testSet[x][-1]==predictions[x]:\n",
        "            correct+=1\n",
        "    return 1.0*correct/len(testSet)"
      ],
      "execution_count": null,
      "outputs": []
    },
    {
      "cell_type": "code",
      "metadata": {
        "id": "9v4kndoToiIh"
      },
      "source": [
        "#Extract features from the dataset and dump these features into a binary .dat file “my.dat”\n",
        "directory = \"__path_to_dataset__\"\n",
        "f= open(\"my.dat\" ,'wb')\n",
        "i=0\n",
        "\n",
        "for folder in os.listdir(directory):\n",
        "    i+=1\n",
        "    if i==11 :\n",
        "        break   \n",
        "    for file in os.listdir(directory+folder):  \n",
        "        (rate,sig) = wav.read(directory+folder+\"/\"+file)\n",
        "        mfcc_feat = mfcc(sig,rate ,winlen=0.020, appendEnergy = False)\n",
        "        covariance = np.cov(np.matrix.transpose(mfcc_feat))\n",
        "        mean_matrix = mfcc_feat.mean(0)\n",
        "        feature = (mean_matrix , covariance , i)\n",
        "        pickle.dump(feature , f)\n",
        "\n",
        "f.close()"
      ],
      "execution_count": null,
      "outputs": []
    },
    {
      "cell_type": "code",
      "metadata": {
        "id": "C--U3doZoh-e"
      },
      "source": [
        "#Train and test split on the dataset\n",
        "dataset = []\n",
        "def loadDataset(filename , split , trSet , teSet):\n",
        "    with open(\"my.dat\" , 'rb') as f:\n",
        "        while True:\n",
        "            try:\n",
        "                dataset.append(pickle.load(f))\n",
        "            except EOFError:\n",
        "                f.close()\n",
        "                break  \n",
        "\n",
        "    for x in range(len(dataset)):\n",
        "        if random.random() <split :      \n",
        "            trSet.append(dataset[x])\n",
        "        else:\n",
        "            teSet.append(dataset[x])  \n",
        "\n",
        "trainingSet = []\n",
        "testSet = []\n",
        "loadDataset(\"my.dat\" , 0.66, trainingSet, testSet)"
      ],
      "execution_count": null,
      "outputs": []
    },
    {
      "cell_type": "code",
      "metadata": {
        "id": "pr-mqFB4oh4-"
      },
      "source": [
        "#Make prediction using KNN and get the accuracy on test data.\n",
        "leng = len(testSet)\n",
        "predictions = []\n",
        "for x in range (leng):\n",
        "    predictions.append(nearestClass(getNeighbors(trainingSet ,testSet[x] , 5))) \n",
        "\n",
        "accuracy1 = getAccuracy(testSet , predictions)\n",
        "print(accuracy1)"
      ],
      "execution_count": null,
      "outputs": []
    },
    {
      "cell_type": "markdown",
      "metadata": {
        "id": "HKIOh0MTvdEM"
      },
      "source": [
        "# **Using CSV file (result of MFCC algorithm)**"
      ]
    },
    {
      "cell_type": "code",
      "metadata": {
        "id": "Istu7axbub5T"
      },
      "source": [
        "import pandas as pd\n",
        "import numpy as np\n",
        "from sklearn.model_selection import train_test_split\n",
        "from sklearn.preprocessing import LabelEncoder\n",
        "import lightgbm as lgb"
      ],
      "execution_count": 1,
      "outputs": []
    },
    {
      "cell_type": "code",
      "metadata": {
        "id": "bu_W0K3mub3D"
      },
      "source": [
        "df=pd.read_csv('/content/UrbanSound8Keditedv.csv')"
      ],
      "execution_count": 2,
      "outputs": []
    },
    {
      "cell_type": "code",
      "metadata": {
        "colab": {
          "base_uri": "https://localhost:8080/"
        },
        "id": "taQKLmU2ub0D",
        "outputId": "e963f4c1-0729-4135-e321-aba668a5db97"
      },
      "source": [
        "print(df.shape)"
      ],
      "execution_count": 3,
      "outputs": [
        {
          "output_type": "stream",
          "name": "stdout",
          "text": [
            "(4893, 28)\n"
          ]
        }
      ]
    },
    {
      "cell_type": "code",
      "metadata": {
        "colab": {
          "base_uri": "https://localhost:8080/",
          "height": 268
        },
        "id": "alsqo8P6ubxK",
        "outputId": "593dba18-497d-4e9f-ba4b-b9cd36044111"
      },
      "source": [
        "df.head(3)"
      ],
      "execution_count": 4,
      "outputs": [
        {
          "output_type": "execute_result",
          "data": {
            "text/html": [
              "<div>\n",
              "<style scoped>\n",
              "    .dataframe tbody tr th:only-of-type {\n",
              "        vertical-align: middle;\n",
              "    }\n",
              "\n",
              "    .dataframe tbody tr th {\n",
              "        vertical-align: top;\n",
              "    }\n",
              "\n",
              "    .dataframe thead th {\n",
              "        text-align: right;\n",
              "    }\n",
              "</style>\n",
              "<table border=\"1\" class=\"dataframe\">\n",
              "  <thead>\n",
              "    <tr style=\"text-align: right;\">\n",
              "      <th></th>\n",
              "      <th>filename</th>\n",
              "      <th>chroma_stft</th>\n",
              "      <th>rmse</th>\n",
              "      <th>spectral_centroid</th>\n",
              "      <th>spectral_bandwidth</th>\n",
              "      <th>rolloff</th>\n",
              "      <th>zero_crossing_rate</th>\n",
              "      <th>mfcc1</th>\n",
              "      <th>mfcc2</th>\n",
              "      <th>mfcc3</th>\n",
              "      <th>mfcc4</th>\n",
              "      <th>mfcc5</th>\n",
              "      <th>mfcc6</th>\n",
              "      <th>mfcc7</th>\n",
              "      <th>mfcc8</th>\n",
              "      <th>mfcc9</th>\n",
              "      <th>mfcc10</th>\n",
              "      <th>mfcc11</th>\n",
              "      <th>mfc00c12</th>\n",
              "      <th>mfcc13</th>\n",
              "      <th>mfcc14</th>\n",
              "      <th>mfcc15</th>\n",
              "      <th>mfcc16</th>\n",
              "      <th>mfcc17</th>\n",
              "      <th>mfcc18</th>\n",
              "      <th>mfcc19</th>\n",
              "      <th>mfcc20</th>\n",
              "      <th>label</th>\n",
              "    </tr>\n",
              "  </thead>\n",
              "  <tbody>\n",
              "    <tr>\n",
              "      <th>0</th>\n",
              "      <td>189982-0-0-35.wav</td>\n",
              "      <td>0.681211</td>\n",
              "      <td>0.075784</td>\n",
              "      <td>1631.966490</td>\n",
              "      <td>2140.378404</td>\n",
              "      <td>3528.955925</td>\n",
              "      <td>0.055393</td>\n",
              "      <td>-142.563950</td>\n",
              "      <td>125.077187</td>\n",
              "      <td>-10.216515</td>\n",
              "      <td>27.029228</td>\n",
              "      <td>1.339960</td>\n",
              "      <td>18.702974</td>\n",
              "      <td>-6.793038</td>\n",
              "      <td>20.499489</td>\n",
              "      <td>-5.225411</td>\n",
              "      <td>12.160578</td>\n",
              "      <td>-3.948158</td>\n",
              "      <td>5.572355</td>\n",
              "      <td>-2.568972</td>\n",
              "      <td>4.670658</td>\n",
              "      <td>-4.946015</td>\n",
              "      <td>2.168482</td>\n",
              "      <td>3.094648</td>\n",
              "      <td>9.242079</td>\n",
              "      <td>0.712850</td>\n",
              "      <td>5.941217</td>\n",
              "      <td>air_conditioner</td>\n",
              "    </tr>\n",
              "    <tr>\n",
              "      <th>1</th>\n",
              "      <td>189982-0-0-28.wav</td>\n",
              "      <td>0.688358</td>\n",
              "      <td>0.075386</td>\n",
              "      <td>1633.404942</td>\n",
              "      <td>2145.214079</td>\n",
              "      <td>3508.169538</td>\n",
              "      <td>0.054292</td>\n",
              "      <td>-141.233398</td>\n",
              "      <td>125.261086</td>\n",
              "      <td>-10.129498</td>\n",
              "      <td>26.120665</td>\n",
              "      <td>1.658286</td>\n",
              "      <td>18.237345</td>\n",
              "      <td>-5.919254</td>\n",
              "      <td>21.346272</td>\n",
              "      <td>-5.087957</td>\n",
              "      <td>11.822664</td>\n",
              "      <td>-4.099065</td>\n",
              "      <td>5.694098</td>\n",
              "      <td>-3.267993</td>\n",
              "      <td>4.600896</td>\n",
              "      <td>-4.898541</td>\n",
              "      <td>1.334499</td>\n",
              "      <td>1.803144</td>\n",
              "      <td>8.877760</td>\n",
              "      <td>0.773029</td>\n",
              "      <td>6.707254</td>\n",
              "      <td>air_conditioner</td>\n",
              "    </tr>\n",
              "    <tr>\n",
              "      <th>2</th>\n",
              "      <td>189982-0-0-20.wav</td>\n",
              "      <td>0.607842</td>\n",
              "      <td>0.085357</td>\n",
              "      <td>1747.500105</td>\n",
              "      <td>2173.116440</td>\n",
              "      <td>3748.457680</td>\n",
              "      <td>0.070058</td>\n",
              "      <td>-114.247055</td>\n",
              "      <td>121.277725</td>\n",
              "      <td>-14.160892</td>\n",
              "      <td>21.470415</td>\n",
              "      <td>3.910751</td>\n",
              "      <td>19.410278</td>\n",
              "      <td>-9.138346</td>\n",
              "      <td>17.815060</td>\n",
              "      <td>1.377123</td>\n",
              "      <td>9.119953</td>\n",
              "      <td>-8.878295</td>\n",
              "      <td>-2.979844</td>\n",
              "      <td>-4.846424</td>\n",
              "      <td>5.002172</td>\n",
              "      <td>-4.928491</td>\n",
              "      <td>-1.010129</td>\n",
              "      <td>7.178382</td>\n",
              "      <td>13.637387</td>\n",
              "      <td>2.225455</td>\n",
              "      <td>7.108963</td>\n",
              "      <td>air_conditioner</td>\n",
              "    </tr>\n",
              "  </tbody>\n",
              "</table>\n",
              "</div>"
            ],
            "text/plain": [
              "            filename  chroma_stft  ...    mfcc20            label\n",
              "0  189982-0-0-35.wav     0.681211  ...  5.941217  air_conditioner\n",
              "1  189982-0-0-28.wav     0.688358  ...  6.707254  air_conditioner\n",
              "2  189982-0-0-20.wav     0.607842  ...  7.108963  air_conditioner\n",
              "\n",
              "[3 rows x 28 columns]"
            ]
          },
          "metadata": {},
          "execution_count": 4
        }
      ]
    },
    {
      "cell_type": "code",
      "metadata": {
        "colab": {
          "base_uri": "https://localhost:8080/"
        },
        "id": "EvkzAdZzwQGT",
        "outputId": "1a878651-a772-40c3-9778-6fcde34a25ec"
      },
      "source": [
        "df.label.value_counts()"
      ],
      "execution_count": 5,
      "outputs": [
        {
          "output_type": "execute_result",
          "data": {
            "text/plain": [
              "air_conditioner     1038\n",
              "children_playing     566\n",
              "drilling             550\n",
              "engine_idling        510\n",
              "dog_bark             465\n",
              "street_music         449\n",
              "car_horn             438\n",
              "jackhammer           359\n",
              "siren                312\n",
              "gun_shot             206\n",
              "Name: label, dtype: int64"
            ]
          },
          "metadata": {},
          "execution_count": 5
        }
      ]
    },
    {
      "cell_type": "code",
      "metadata": {
        "id": "Ol6dhryAwQD1"
      },
      "source": [
        "y = df['label']\n",
        "x = df.drop(['filename','label'],axis=1)"
      ],
      "execution_count": 6,
      "outputs": []
    },
    {
      "cell_type": "code",
      "metadata": {
        "id": "OZ7rS18XwQBC"
      },
      "source": [
        "le = LabelEncoder()\n",
        "yn = le.fit_transform(y)"
      ],
      "execution_count": 7,
      "outputs": []
    },
    {
      "cell_type": "code",
      "metadata": {
        "id": "MRersG1EwP-W"
      },
      "source": [
        "x_tr,x_val,y_tr,y_val = train_test_split(x,yn,test_size=0.15,random_state=42)"
      ],
      "execution_count": 8,
      "outputs": []
    },
    {
      "cell_type": "code",
      "metadata": {
        "id": "1BCRbA7JxDCT"
      },
      "source": [
        "trn_data = lgb.Dataset(x_tr, label=y_tr)\n",
        "val_data = lgb.Dataset(x_val, label=y_val)"
      ],
      "execution_count": 9,
      "outputs": []
    },
    {
      "cell_type": "code",
      "metadata": {
        "id": "WvgaVGU1xC_o"
      },
      "source": [
        "weight = 10\n",
        "param = { 'num_leaves': 30,\n",
        "    'max_depth': 6,     \n",
        "    'boost': 'gbdt', #\n",
        "    'num_classes' : 10,\n",
        "    'learning_rate': 0.01,\n",
        "    'n_estimators':4000,\n",
        "    'colsample_bytree':0.85,\n",
        "    'metric':'multi_logloss',\n",
        "    'scale_pos_weight': round(weight, 1),   \n",
        "    'objective': 'multiclass',\n",
        "    'random_state': 42,\n",
        "    'seed':1222,   \n",
        "}"
      ],
      "execution_count": 16,
      "outputs": []
    },
    {
      "cell_type": "code",
      "metadata": {
        "colab": {
          "base_uri": "https://localhost:8080/"
        },
        "id": "NK9AFnoexC8s",
        "outputId": "fd719892-1b83-45db-b2bd-9d1fa8a1dbbe"
      },
      "source": [
        "lgb_model = lgb.train(param, trn_data, valid_sets = [trn_data, val_data], verbose_eval=200,early_stopping_rounds=200)"
      ],
      "execution_count": 17,
      "outputs": [
        {
          "output_type": "stream",
          "name": "stderr",
          "text": [
            "/usr/local/lib/python3.7/dist-packages/lightgbm/engine.py:118: UserWarning: Found `n_estimators` in params. Will use it instead of argument\n",
            "  warnings.warn(\"Found `{}` in params. Will use it instead of argument\".format(alias))\n"
          ]
        },
        {
          "output_type": "stream",
          "name": "stdout",
          "text": [
            "Training until validation scores don't improve for 200 rounds.\n",
            "[200]\ttraining's multi_logloss: 0.603691\tvalid_1's multi_logloss: 0.8469\n",
            "[400]\ttraining's multi_logloss: 0.259799\tvalid_1's multi_logloss: 0.545029\n",
            "[600]\ttraining's multi_logloss: 0.134751\tvalid_1's multi_logloss: 0.42425\n",
            "[800]\ttraining's multi_logloss: 0.0700285\tvalid_1's multi_logloss: 0.350201\n",
            "[1000]\ttraining's multi_logloss: 0.0360533\tvalid_1's multi_logloss: 0.302415\n",
            "[1200]\ttraining's multi_logloss: 0.0179148\tvalid_1's multi_logloss: 0.270328\n",
            "[1400]\ttraining's multi_logloss: 0.00912996\tvalid_1's multi_logloss: 0.251789\n",
            "[1600]\ttraining's multi_logloss: 0.00456738\tvalid_1's multi_logloss: 0.239515\n",
            "[1800]\ttraining's multi_logloss: 0.00230965\tvalid_1's multi_logloss: 0.232125\n",
            "[2000]\ttraining's multi_logloss: 0.00120324\tvalid_1's multi_logloss: 0.22677\n",
            "[2200]\ttraining's multi_logloss: 0.000627418\tvalid_1's multi_logloss: 0.224071\n",
            "[2400]\ttraining's multi_logloss: 0.000325031\tvalid_1's multi_logloss: 0.22098\n",
            "[2600]\ttraining's multi_logloss: 0.000167552\tvalid_1's multi_logloss: 0.220841\n",
            "Early stopping, best iteration is:\n",
            "[2440]\ttraining's multi_logloss: 0.000284828\tvalid_1's multi_logloss: 0.220023\n"
          ]
        }
      ]
    },
    {
      "cell_type": "code",
      "metadata": {
        "id": "JkgIb-__4bTS"
      },
      "source": [
        "test = pd.read_csv('')"
      ],
      "execution_count": null,
      "outputs": []
    },
    {
      "cell_type": "code",
      "metadata": {
        "id": "eETCzOnr0AHs"
      },
      "source": [
        "pred = lgb_model.predict(test,num_iteration=lgb_model.best_iteration)"
      ],
      "execution_count": null,
      "outputs": []
    },
    {
      "cell_type": "markdown",
      "metadata": {
        "id": "cvljuDo1BC7Y"
      },
      "source": [
        "# **Use of this model**"
      ]
    },
    {
      "cell_type": "code",
      "metadata": {
        "id": "1WyebJHdxC5k"
      },
      "source": [
        "#we are going to use this model and apply it to an audio file which contains several mixed sounds\n",
        "#Steps :\n",
        "  #Load sound file\n",
        "  #Decompose it into parts according to its content using the NMF algorithm\n",
        "  #Predict the label of each part of sound\n",
        "  #Print predicted sounds"
      ],
      "execution_count": null,
      "outputs": []
    },
    {
      "cell_type": "code",
      "metadata": {
        "id": "xwWU_CWLBBy2"
      },
      "source": [
        "data,rate = librosa.load('file.wav')"
      ],
      "execution_count": null,
      "outputs": []
    },
    {
      "cell_type": "code",
      "metadata": {
        "id": "c6J-P8wJCBRV"
      },
      "source": [
        "S = librosa.stft(data)\n",
        "X,X_phase = librosa.magphase(S)"
      ],
      "execution_count": null,
      "outputs": []
    },
    {
      "cell_type": "code",
      "metadata": {
        "id": "UOjV7JH2CBPy"
      },
      "source": [
        "n_component = None #specify the number of components that the audio contains\n",
        "W,H = librosa.decompose.decompose(X,n_component=n_component,sort=True)\n",
        "print(W.shape)\n",
        "print(H.shape)"
      ],
      "execution_count": null,
      "outputs": []
    },
    {
      "cell_type": "code",
      "metadata": {
        "id": "7OpnpEWdCBOb"
      },
      "source": [
        "l_sounds=[]\n",
        "for n in range(n_component):\n",
        "  Y = scipy.Outer(W[:,n],H[:,n])*X*X_phase\n",
        "  y = librosa.istft(Y)\n",
        "  #processing\n",
        "  mfcc_feat = mfcc(y,rate ,winlen=0.020, appendEnergy = False)\n",
        "  covariance = np.cov(np.matrix.transpose(mfcc_feat))\n",
        "  mean_matrix = mfcc_feat.mean(0)\n",
        "  feature = (mean_matrix , covariance , i)\n",
        "  pred = lgb_model.predict(test,num_iteration=lgb_model.best_iteration)\n",
        "  l_sounds.append(pred)"
      ],
      "execution_count": null,
      "outputs": []
    },
    {
      "cell_type": "code",
      "metadata": {
        "id": "2okS9TdbCBM4"
      },
      "source": [
        "print('The sounds identified in this audio file')\n",
        "print(l_sounds)"
      ],
      "execution_count": null,
      "outputs": []
    }
  ]
}